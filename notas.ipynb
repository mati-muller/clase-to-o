{
 "cells": [
  {
   "cell_type": "code",
   "execution_count": 49,
   "id": "57f8bdc3",
   "metadata": {},
   "outputs": [
    {
     "name": "stdout",
     "output_type": "stream",
     "text": [
      "Nota asignada correctamente.\n"
     ]
    },
    {
     "data": {
      "text/html": [
       "<div>\n",
       "<style scoped>\n",
       "    .dataframe tbody tr th:only-of-type {\n",
       "        vertical-align: middle;\n",
       "    }\n",
       "\n",
       "    .dataframe tbody tr th {\n",
       "        vertical-align: top;\n",
       "    }\n",
       "\n",
       "    .dataframe thead th {\n",
       "        text-align: right;\n",
       "    }\n",
       "</style>\n",
       "<table border=\"1\" class=\"dataframe\">\n",
       "  <thead>\n",
       "    <tr style=\"text-align: right;\">\n",
       "      <th></th>\n",
       "      <th>ALUMNO</th>\n",
       "      <th>NOTA</th>\n",
       "    </tr>\n",
       "  </thead>\n",
       "  <tbody>\n",
       "    <tr>\n",
       "      <th>165</th>\n",
       "      <td>OLIVARES PONCE, RODRIGO EDUARDO</td>\n",
       "      <td>faltan restricciones de los Joins</td>\n",
       "    </tr>\n",
       "  </tbody>\n",
       "</table>\n",
       "</div>"
      ],
      "text/plain": [
       "                              ALUMNO                               NOTA\n",
       "165  OLIVARES PONCE, RODRIGO EDUARDO  faltan restricciones de los Joins"
      ]
     },
     "metadata": {},
     "output_type": "display_data"
    },
    {
     "data": {
      "text/plain": [
       "'\\napellido = \"Cornejo val \"  # Apellido a buscar\\nNOTA = \"solo haces la 3a y no usas la sintaxis buena en el join \" \\n\\n'"
      ]
     },
     "execution_count": 49,
     "metadata": {},
     "output_type": "execute_result"
    }
   ],
   "source": [
    "import pandas as pd\n",
    "\n",
    "# Leer archivo\n",
    "df = pd.read_excel('Feedback_BBDD(1).xlsx')\n",
    "\n",
    "# Convertir la columna \"NOTA\" a texto\n",
    "df[\"NOTA\"] = df[\"NOTA\"].astype(\"object\")\n",
    "\n",
    "# Parámetros\n",
    "apellido = \"olivares Ponce\" #Apellido a buscar\n",
    "NOTA = \"faltan restricciones de los Joins\"  # Nota a asignar\n",
    "\n",
    "# Crear máscara\n",
    "mask = df[\"ALUMNO\"].str.contains(apellido.upper(), case=False, na=False)\n",
    "\n",
    "# Contar coincidencias\n",
    "num_coincidencias = mask.sum()\n",
    "\n",
    "if num_coincidencias == 1:\n",
    "    df.loc[mask, \"NOTA\"] = NOTA\n",
    "    # Guardar cambios si solo hay una coincidencia\n",
    "    df.to_excel(\"Feedback_BBDD(1).xlsx\", index=False)\n",
    "    coincidencias = df.loc[mask, [\"ALUMNO\", \"NOTA\"]]\n",
    "    print(\"Nota asignada correctamente.\")\n",
    "    display(coincidencias)\n",
    "elif num_coincidencias >= 2:\n",
    "    print(\"Hay más de una coincidencia. No se modificó el archivo.\")\n",
    "    coincidencias = df.loc[mask, [\"ALUMNO\"]]\n",
    "    print(coincidencias)\n",
    "else:\n",
    "    print(\"No se encontró ninguna coincidencia.\")\n",
    "\n",
    "####------Sección 1 lista\n",
    "\n",
    "#apellido = \"Lía florencia \"  # Apellido a buscar\n",
    "#NOTA = \"no pones la restriccion den los joins \"\n",
    "'''\n",
    "apellido = \"Cornejo val \"  # Apellido a buscar\n",
    "NOTA = \"solo haces la 3a y no usas la sintaxis buena en el join \" \n",
    "\n",
    "'''"
   ]
  }
 ],
 "metadata": {
  "kernelspec": {
   "display_name": "Python 3",
   "language": "python",
   "name": "python3"
  },
  "language_info": {
   "codemirror_mode": {
    "name": "ipython",
    "version": 3
   },
   "file_extension": ".py",
   "mimetype": "text/x-python",
   "name": "python",
   "nbconvert_exporter": "python",
   "pygments_lexer": "ipython3",
   "version": "3.12.3"
  }
 },
 "nbformat": 4,
 "nbformat_minor": 5
}
